{
 "cells": [
  {
   "cell_type": "markdown",
   "id": "d37cb42d",
   "metadata": {},
   "source": [
    "## Automatic File Sorter in File Explorer\n",
    "\n",
    "###  This project sort files automatically into their respective folders"
   ]
  },
  {
   "cell_type": "code",
   "execution_count": 12,
   "id": "ab7a0a38",
   "metadata": {},
   "outputs": [],
   "source": [
    "import os, shutil"
   ]
  },
  {
   "cell_type": "code",
   "execution_count": 13,
   "id": "463e3888",
   "metadata": {},
   "outputs": [],
   "source": [
    "path = r\"C:/Users/Champion Sadiq/Desktop/AFS Project/\""
   ]
  },
  {
   "cell_type": "markdown",
   "id": "360083ac",
   "metadata": {},
   "source": [
    "STEP 1: Check to see if there are folders in the path, if there are not. The first step is to create the folders\n",
    "STEP 2: The next step is the individually check the files that needs to be sorted to determine what kind of file it is and then put it in to the correct folder"
   ]
  },
  {
   "cell_type": "code",
   "execution_count": 14,
   "id": "5faf2b7a",
   "metadata": {},
   "outputs": [
    {
     "data": {
      "text/plain": [
       "['art.png',\n",
       " 'AutomatedSorting.png',\n",
       " 'banana.jpeg',\n",
       " 'bulb.jpeg',\n",
       " 'color_srgb.csv',\n",
       " 'continent.csv',\n",
       " 'day.csv',\n",
       " 'dice.jpeg',\n",
       " 'girl.jpeg',\n",
       " 'industry.csv',\n",
       " 'pattern.png',\n",
       " 'penguin.jpeg',\n",
       " 'Sample-Spreadsheet-10-rows.xls',\n",
       " 'SampleXLSFile_212kb.xls',\n",
       " 'SampleXLSFile_38kb.xls',\n",
       " 'scribble.png',\n",
       " 'testpdf.pdf',\n",
       " 'test_doc.docx',\n",
       " 'test_doc2.docx',\n",
       " 'test_note.txt',\n",
       " 'test_note2.txt',\n",
       " 'test_pdf2.pdf']"
      ]
     },
     "execution_count": 14,
     "metadata": {},
     "output_type": "execute_result"
    }
   ],
   "source": [
    "#To show all the files within path\n",
    "\n",
    "os.listdir(path)\n",
    "\n",
    "#We have .png, .jpeg, .csv, .docx, .xls, .pdf, .txt files in path"
   ]
  },
  {
   "cell_type": "code",
   "execution_count": 16,
   "id": "c1a48090",
   "metadata": {},
   "outputs": [],
   "source": [
    "#Checking if the folders exists\n",
    "\n",
    "folder_names = ['csv files', 'image files', 'text files', 'png files', 'word files', 'pdf files', 'excel files']\n",
    "\n",
    "for loop in range(0,7):\n",
    "    if not os.path.exists(path + folder_names[loop]):\n",
    "        #print(path + folder_names[loop])\n",
    "        os.makedirs(path + folder_names[loop])\n",
    "    \n",
    "#Name os.listdir(path) to allow you loop through then use the shutil.move to move the files into appropraite folders\n",
    "\n",
    "file_name = os.listdir(path)\n",
    "\n",
    "# The for loop checks if the file is already in the folder and if its not it moves into its respective folder.\n",
    "for file in file_name:\n",
    "    if \".csv\" in file and not os.path.exists(path + \"csv files/\" + file):\n",
    "        shutil.move(path + file, path + \"csv files/\" + file)\n",
    "    elif \".jpeg\" in file and not os.path.exists(path + \"image files/\" + file):\n",
    "        shutil.move(path + file, path + \"image files/\" + file)\n",
    "    elif \".txt\" in file and not os.path.exists(path + \"text files/\" + file):\n",
    "        shutil.move(path + file, path + \"text files/\" + file)\n",
    "    elif \".png\" in file and not os.path.exists(path + \"png files/\" + file):\n",
    "        shutil.move(path + file, path + \"png files/\" + file)\n",
    "    elif \".docx\" in file and not os.path.exists(path + \"word files/\" + file):\n",
    "        shutil.move(path + file, path + \"word files/\" + file)\n",
    "    elif \".pdf\" in file and not os.path.exists(path + \"pdf files/\" + file):\n",
    "        shutil.move(path + file, path + \"pdf files/\" + file)\n",
    "    elif \".xls\" in file and not os.path.exists(path + \"excel files/\" + file):\n",
    "        shutil.move(path + file, path + \"excel files/\" + file)\n",
    "    \n"
   ]
  },
  {
   "cell_type": "code",
   "execution_count": null,
   "id": "fd719338",
   "metadata": {},
   "outputs": [],
   "source": [
    "\n",
    "    \n",
    "        "
   ]
  },
  {
   "cell_type": "code",
   "execution_count": null,
   "id": "3c62c699",
   "metadata": {},
   "outputs": [],
   "source": []
  },
  {
   "cell_type": "code",
   "execution_count": null,
   "id": "6c2efca8",
   "metadata": {},
   "outputs": [],
   "source": []
  },
  {
   "cell_type": "code",
   "execution_count": null,
   "id": "4e837f55",
   "metadata": {},
   "outputs": [],
   "source": []
  },
  {
   "cell_type": "code",
   "execution_count": null,
   "id": "8982dc1d",
   "metadata": {},
   "outputs": [],
   "source": []
  },
  {
   "cell_type": "code",
   "execution_count": null,
   "id": "c5422071",
   "metadata": {},
   "outputs": [],
   "source": []
  },
  {
   "cell_type": "code",
   "execution_count": null,
   "id": "0ae021ce",
   "metadata": {},
   "outputs": [],
   "source": []
  }
 ],
 "metadata": {
  "kernelspec": {
   "display_name": "Python 3 (ipykernel)",
   "language": "python",
   "name": "python3"
  },
  "language_info": {
   "codemirror_mode": {
    "name": "ipython",
    "version": 3
   },
   "file_extension": ".py",
   "mimetype": "text/x-python",
   "name": "python",
   "nbconvert_exporter": "python",
   "pygments_lexer": "ipython3",
   "version": "3.11.5"
  }
 },
 "nbformat": 4,
 "nbformat_minor": 5
}
